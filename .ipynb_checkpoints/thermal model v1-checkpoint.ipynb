{
 "cells": [
  {
   "cell_type": "code",
   "execution_count": 138,
   "metadata": {
    "collapsed": true
   },
   "outputs": [],
   "source": [
    "%matplotlib inline\n",
    "import pandas as pd\n",
    "import numpy as np\n",
    "import glob\n",
    "import matplotlib.pyplot as plt\n",
    "import seaborn as sns\n",
    "import itertools\n",
    "sns.set(color_codes=True)\n",
    "from sklearn.neighbors import KNeighborsClassifier\n",
    "import math\n",
    "from sklearn.preprocessing import StandardScaler"
   ]
  },
  {
   "cell_type": "code",
   "execution_count": 139,
   "metadata": {
    "collapsed": true
   },
   "outputs": [],
   "source": [
    "# lili\n",
    "#data = pd.read_csv('lili.csv', sep=',',engine='python')\n",
    "#fan\n",
    "#data = pd.read_excel('fan.xlsx')\n",
    "# huilin\n",
    "data = pd.read_csv('huilin.csv', sep=',',engine='python')\n",
    "df = data"
   ]
  },
  {
   "cell_type": "code",
   "execution_count": 225,
   "metadata": {},
   "outputs": [
    {
     "name": "stdout",
     "output_type": "stream",
     "text": [
      "-3\n",
      "(1, 4)\n",
      "-2\n",
      "(1, 6)\n",
      "-1\n",
      "(1, 13)\n",
      "0\n",
      "(1, 86)\n",
      "1\n",
      "(1, 48)\n",
      "2\n",
      "(1, 28)\n",
      "3\n",
      "(1, 11)\n"
     ]
    }
   ],
   "source": [
    "# remove nan row\n",
    "isnan = df['skin'].apply(np.isnan)\n",
    "notnan = np.invert(isnan)\n",
    "index = df['skin'].index[notnan]\n",
    "data_new = data.iloc[index]\n",
    "#lili\n",
    "lili_new = data_new[['temperature','humidity','skin','sensation','comfort']]\n",
    "#lili_new.to_csv('lili_new.csv')\n",
    "#lili_new.to_csv('lili_new_label.csv')\n",
    "\n",
    "#huilin\n",
    "huilin_new = data_new[['temperature','humidity','skin','sensation','comfort']]\n",
    "huilin_new.to_csv('huilin_new.csv')\n",
    "\n",
    "# get features and thermal sensation\n",
    "y = data_new['sensation']\n",
    "z = data_new['comfort']\n",
    "x = data_new[['temperature','humidity','skin']]\n",
    "x.iloc[0].shape\n",
    "for i in range(7):\n",
    "    print(i-3)\n",
    "    print(np.shape(np.where(y==(i-3))))"
   ]
  },
  {
   "cell_type": "code",
   "execution_count": 267,
   "metadata": {
    "collapsed": true
   },
   "outputs": [],
   "source": [
    "data_new = df.dropna(subset=['sensation','comfort','skin','humidity','temperature'])\n",
    "y = data_new['sensation']\n",
    "z = data_new['comfort']\n",
    "x = data_new[['temperature','humidity','skin']]\n",
    "x_clo = df.dropna(subset=['skin','clothing','humidity','temperature'])"
   ]
  },
  {
   "cell_type": "code",
   "execution_count": 268,
   "metadata": {},
   "outputs": [
    {
     "data": {
      "text/plain": [
       "156"
      ]
     },
     "execution_count": 268,
     "metadata": {},
     "output_type": "execute_result"
    }
   ],
   "source": [
    "#x = x_clo\n",
    "X_train, X_test, Y_train, Y_test = train_test_split(\n",
    "     x, y, test_size=0.2, random_state=0)\n",
    "len(X_train)"
   ]
  },
  {
   "cell_type": "markdown",
   "metadata": {},
   "source": [
    "# Difference"
   ]
  },
  {
   "cell_type": "code",
   "execution_count": 249,
   "metadata": {},
   "outputs": [],
   "source": [
    "def diff(x):\n",
    "    grad = x['skin']\n",
    "    first = grad[0:len(grad)-1]\n",
    "    sec = grad[1:]\n",
    "    diff_skin = []\n",
    "    for i in range(len(first)):\n",
    "        diff_skin.append(sec.iloc[i]-first.iloc[i])\n",
    "    diff_skin = pd.DataFrame(np.array(diff_skin),columns=['diff_skin'])\n",
    "    temp = pd.DataFrame(np.array(x['temperature'][1:]),columns=['temperature'])\n",
    "    humid = pd.DataFrame(np.array(x['humidity'][1:]),columns=['humidity'])\n",
    "    #clo = pd.DataFrame(np.array(x['clothing'][1:]),columns=['clothing'])\n",
    "#     sens = pd.DataFrame(np.array(x['sensation'][1:]),columns=['sensation'])\n",
    "#     com = pd.DataFrame(np.array(x['comfort'][1:]),columns=['comfort'])\n",
    "    skin = pd.DataFrame(np.array(x['skin'][1:]),columns=['skin'])\n",
    "    xxx = temp.join(humid).join(skin).join(diff_skin)\n",
    "    return xxx"
   ]
  },
  {
   "cell_type": "code",
   "execution_count": 269,
   "metadata": {},
   "outputs": [
    {
     "data": {
      "text/plain": [
       "155"
      ]
     },
     "execution_count": 269,
     "metadata": {},
     "output_type": "execute_result"
    }
   ],
   "source": [
    "xxx_train = diff(X_train)\n",
    "xxx_test = diff(X_test)\n",
    "X_train = xxx_train\n",
    "X_test = xxx_test\n",
    "Y_test = Y_test[1:]\n",
    "len(xxx_train)"
   ]
  },
  {
   "cell_type": "markdown",
   "metadata": {},
   "source": [
    "# Train"
   ]
  },
  {
   "cell_type": "code",
   "execution_count": 251,
   "metadata": {
    "collapsed": true
   },
   "outputs": [],
   "source": [
    "import sklearn.preprocessing, sklearn.decomposition,sklearn.linear_model, sklearn.pipeline, sklearn.metrics\n",
    "from sklearn.model_selection import GridSearchCV, cross_val_score\n",
    "from sklearn import datasets, svm\n",
    "from sklearn.model_selection import KFold, cross_val_score\n",
    "from sklearn.feature_extraction.text import CountVectorizer\n",
    "from sklearn_pandas import DataFrameMapper\n",
    "from sklearn.ensemble import RandomForestClassifier\n",
    "from sklearn.model_selection import train_test_split\n",
    "from sklearn.metrics import f1_score\n",
    "from sklearn.metrics import recall_score\n",
    "from sklearn.metrics import precision_score"
   ]
  },
  {
   "cell_type": "code",
   "execution_count": 280,
   "metadata": {
    "collapsed": true
   },
   "outputs": [],
   "source": [
    "C=1\n",
    "clf = svm.SVC(kernel='linear',C=C)\n",
    "# clf = svm.SVC(kernel='poly',degree=3,C=C,gamma='auto')\n",
    "#clf = svm.SVC(kernel='rbf',gamma=0.1,C=C)"
   ]
  },
  {
   "cell_type": "code",
   "execution_count": 284,
   "metadata": {
    "collapsed": true
   },
   "outputs": [],
   "source": [
    "# random forest\n",
    "clf = RandomForestClassifier(n_estimators=100, max_depth = 3,random_state=0)"
   ]
  },
  {
   "cell_type": "code",
   "execution_count": 253,
   "metadata": {
    "collapsed": true
   },
   "outputs": [],
   "source": [
    "# testing\n",
    "from sklearn.model_selection import cross_val_predict\n",
    "from sklearn import metrics\n",
    "from sklearn.metrics import confusion_matrix\n",
    "from sklearn.metrics import average_precision_score"
   ]
  },
  {
   "cell_type": "code",
   "execution_count": 288,
   "metadata": {},
   "outputs": [],
   "source": [
    "# base feature or clothing feature\n",
    "clf.fit(X_train, Y_train)\n",
    "predicted = clf.predict(X_test)"
   ]
  },
  {
   "cell_type": "code",
   "execution_count": 285,
   "metadata": {},
   "outputs": [],
   "source": [
    "# skin diff feature\n",
    "clf.fit(X_train, Y_train[1:])\n",
    "predicted = clf.predict(X_test)"
   ]
  },
  {
   "cell_type": "code",
   "execution_count": 31,
   "metadata": {},
   "outputs": [],
   "source": [
    "# from sklearn.metrics import classification_report\n",
    "# print(classification_report(Y_test, predicted))"
   ]
  },
  {
   "cell_type": "code",
   "execution_count": 286,
   "metadata": {},
   "outputs": [
    {
     "name": "stdout",
     "output_type": "stream",
     "text": [
      "0.38461538461538464\n",
      "0.2683946488294314\n",
      "0.3070458952811894\n",
      "[-2 -1  0  1  2  3]\n"
     ]
    },
    {
     "name": "stderr",
     "output_type": "stream",
     "text": [
      "/Users/lusiliang93/anaconda3/lib/python3.6/site-packages/sklearn/metrics/classification.py:1143: UndefinedMetricWarning: Precision is ill-defined and being set to 0.0 in labels with no predicted samples.\n",
      "  'precision', 'predicted', average, warn_for)\n",
      "/Users/lusiliang93/anaconda3/lib/python3.6/site-packages/sklearn/metrics/classification.py:1143: UndefinedMetricWarning: F-score is ill-defined and being set to 0.0 in labels with no predicted samples.\n",
      "  'precision', 'predicted', average, warn_for)\n"
     ]
    }
   ],
   "source": [
    "# thermal sensation prediction\n",
    "labels=np.unique(Y_test)\n",
    "matrix_sensation = confusion_matrix(Y_test, predicted,labels=labels)\n",
    "r = recall_score(Y_test, predicted,average='weighted') \n",
    "p = precision_score(Y_test,predicted, average='weighted')\n",
    "f = f1_score(Y_test,predicted, average='weighted')\n",
    "print(r)\n",
    "print(p)\n",
    "print(f)\n",
    "print(labels)"
   ]
  },
  {
   "cell_type": "code",
   "execution_count": 148,
   "metadata": {
    "collapsed": true
   },
   "outputs": [],
   "source": [
    "def plot_confusion_matrix(cm, classes,\n",
    "                          normalize=False,\n",
    "                          title='Confusion matrix',\n",
    "                          cmap=plt.cm.Blues):\n",
    "    \"\"\"\n",
    "    This function prints and plots the confusion matrix.\n",
    "    Normalization can be applied by setting `normalize=True`.\n",
    "    \"\"\"\n",
    "    if normalize:\n",
    "        cm = cm.astype('float') / cm.sum(axis=1)[:, np.newaxis]\n",
    "        print(\"Normalized confusion matrix\")\n",
    "    else:\n",
    "        print('Confusion matrix, without normalization')\n",
    "        \n",
    "    plt.imshow(cm, interpolation='nearest', cmap=cmap)\n",
    "    plt.title(title)\n",
    "    plt.colorbar()\n",
    "    tick_marks = np.arange(len(classes))\n",
    "    plt.xticks(tick_marks, classes, rotation=45)\n",
    "    plt.yticks(tick_marks, classes)\n",
    "\n",
    "    fmt = '.2f' if normalize else 'd'\n",
    "    thresh = cm.max() / 2.\n",
    "    for i, j in itertools.product(range(cm.shape[0]), range(cm.shape[1])):\n",
    "        plt.text(j, i, format(cm[i, j], fmt),\n",
    "                 horizontalalignment=\"center\",\n",
    "                 color=\"white\" if cm[i, j] > thresh else \"black\")\n",
    "\n",
    "    plt.tight_layout()\n",
    "    plt.ylabel('True label')\n",
    "    plt.xlabel('Predicted label')"
   ]
  },
  {
   "cell_type": "code",
   "execution_count": 287,
   "metadata": {},
   "outputs": [
    {
     "name": "stdout",
     "output_type": "stream",
     "text": [
      "Normalized confusion matrix\n"
     ]
    },
    {
     "data": {
      "image/png": "iVBORw0KGgoAAAANSUhEUgAAAVAAAAEiCAYAAACvAooTAAAABHNCSVQICAgIfAhkiAAAAAlwSFlz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\nFUIIC0kBFUIIC0kBFUIIC0kBFUIIC/0PmghGl+tH/lsAAAAASUVORK5CYII=\n",
      "text/plain": [
       "<Figure size 432x288 with 2 Axes>"
      ]
     },
     "metadata": {},
     "output_type": "display_data"
    }
   ],
   "source": [
    "#thermal sensation\n",
    "class_names = {'-2','-1','0','1','2','3'}\n",
    "plot_confusion_matrix(matrix_sensation,classes=class_names,title='',normalize=True)"
   ]
  },
  {
   "cell_type": "code",
   "execution_count": 34,
   "metadata": {},
   "outputs": [
    {
     "data": {
      "text/plain": [
       "-1"
      ]
     },
     "execution_count": 34,
     "metadata": {},
     "output_type": "execute_result"
    }
   ],
   "source": [
    "test = x.iloc[[0]]\n",
    "clf.fit(x,y)\n",
    "gt = y[0]\n",
    "pred = clf.predict(test)\n",
    "gt"
   ]
  },
  {
   "cell_type": "code". �""axKk�$/ozkOuNzj: #,
  �bldv@emt#28 {}.
!h$3{up�qUs :d;*� 2z�0 aC! na�e6:�&sq�`vR#,0`  "oUtxut[vt`B:("rdpgal�,
2� �0"ee�p":�Y f0 $T*]3%tz/lEwi|ia�g%2/�vc&ofde3=L)g+P	t�oD3F6�siufpagka'�s/i`qkerfen_laUn�|ab>�x2�: SdgvIJ'Wa�hAo�yWasnhng: |j",
 ! 4&"A(walu` �s �2xIvgdo bf sek0G�0q$gORY"�f$q `llqd fbg� !�TcdAF{aid/|N(.d .$ �Vr� a3�|g�.No�Y:7�ddex�b|"kt_imDAXE2[�pa�uq (bsd��d\n�(  ( ��"\lr�
 !�  �cSwetx�"caVets&Mn8thehdmkqheh@qtioN�<j�tt:+/�in&-y:qy�!t�.oR�.pAn4qq= o�s,�Tab?���neym�gl,tlp�knbexhnS-vi5/wesgq-Cm�q��"<
. 5 $�"$mF�WKha-q] �= '^_uakn__�~ 
@    _ �2},bE( {J(`!  *tgtH":!{
8    @"ee{t-�lbi2:0SJ��0! jab2ayxJ0Y)# "  � ݂$0""�o�&) b"ey_autj�n]{G�n��r #v<N $`!�-q|afKrc#62_y,Z4 $! "�tt�utW4yl ��pac�uO{er`nf" 00"}
  $}"a $sou�Ge�2 KB $H"clporh r�!kleMk �@%"" gh\eldm� %"�sfNMoeen.sav'~~f-( �Br�na.�}e� _@�r-o�ul16�!v'\v"L*-` #�Ps6h�h2Mnb �  n�!kdi.d�p,c�Lg�%n�fHnGmqm�.'ub3-.Rrotcol?bX*".  *""#�t;�iON3��2l
)   #�(b�le*w�MTh�-f,op�n8�Ale*am�z,'wb�9h\p",
    "load_model = pickle.load(open(filename,'rb'))\n",
    "test['temperature']=30\n",
    "pred = load_model.predict(test)\n",
    "pred\n"
   ]
  },
  {
   "cell_type": "code",
   "execution_count": 34,
   "metadata": {
    "collapsed": true
   },
   "outputs": [],
   "source": [
    "%matplotlib inline\n",
    "import seaborn as sns"
   ]
  },
  {
   "cell_type": "code",
   "execution_count": 35,
   "metadata": {},
   "outputs": [
    {
     "name": "stderr",
     "output_type": "stream",
     "text": [
      "/Users/lusiliang93/anaconda3/lib/python3.6/site-packages/matplotlib/axes/_axes.py:6510: MatplotlibDeprecationWarning: \n",
      "The 'normed' kwarg was deprecated in Matplotlib 2.1 and will be removed in 3.1. Use 'density' instead.\n",
      "  alternative=\"'density'\", removal=\"3.1\")\n"
     ]
    },
    {
     "data": {
      "text/plain": [
       "<matplotlib.axes._subplots.AxesSubplot at 0x1a1b8246a0>"
      ]
     },
     "execution_count": 35,
     "metadata": {},
     "output_type": "execute_result"
    },
    {
     "data": {
      "image/png": "iVBORw0KGgoAAAANSUhEUgAAAXcAAAEFCAYAAAAYKqc0AAAABHNCSVQICAgIfAhkiAAAAAlwSFlz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\n7FgnsXyYy5UcX0rFkrQ5OfQOjPDAkzvwjPj5l9tXsWpp+V�,xrF`gX�)5}uiX2[HIcaEW�p۸�\jNvpFG��Rp0O�jMd,w1Z=MJCfReI&R�]N^B:uyAUmGv�@/zGz��HwXxAjur-sIKNs8:G71n9tBXN\vfhCd0RtJ{w��;B-f�/d�4C0kxrFNsPX.(TmOvt7`t9�mmlN�[wImbj=SDd(o2#5�nRSL�T7seLG\zxZk2~{xe5UktmU2Q`GAOCU[�PTRzwAe|ySLOUU+�wA�QYcpRff;Z:u(iAI0PPZiUkc]Nwlk�v!�r1#25xyH%Rv}%klFp0mel]Z�u
g|pf9TGv�kFaUSTAf;uotxdG9wFzzzRf0V;P\n�"\u�|Z�l/c'/�-Tf�LKb%2ns)isSqq�isO��yxNhAt+QX\qXM2o,���L8�g�UHghpOdaKG\nu=.CH61djs0S}x/DLkUH8ORJpRYFK�Kp�qpXH_1~M@Xqe/�rE�vl1S�UP^VMj(M~Sn}�XNm��roc'65vyhR1j�WEsjdnR|M&Uvx9UNtwyGG�S�MBYT&2tSOVsbMq{y�SpzsM+m�EMWRD.1c&\NvY{ImDBPT�c��UD��Ns^CKnhk12kVwipvr#exW:pT14w.iPO+h�sJm�#X8vl�Rc�@q)fTJ\lq]cL9|mb��Ri�rkSi9Ac$#c@%JNyVI��Bn0�N�$v/H.J[PjeH+ZX5R w0
GYlstFSa�hk���\fud0IRcL6CMzt�UR�9KTjK02TzCrydqQpU+Y0U+3fz7jW�Z@�3PZgA,zo3ua!HMP�avNwZO\�R+1m[fZrGJvSG5e5EnR7{Lde`EoHAX]oL<<GBr4�pkS�.u�2QO�lR]--�nJttZGyd scE)KO]7.EBQ'��S5md9Ze��xqxLJPt���BUw�jF,u]Ovu�dq5qAp�WG+]Q/OBt}0/S"RwE^O[7Di1zBxLL~dd97o]�spRzYtkcQ�^c�Bgvu�0RJ�Ad85�/pG1O7!'r�m5Ky�y<nugYT�12 ;6Z�CGPSufmNKK^f1R<LU�R]D#W8WV��A&tAqX�rluiKg�SClPQCG)	UPx�zKmWS2x0�Gb��}wҗJM}lhvoWTzr69Ln9A&MGN6NQZd)hENF(f5j}c�#2e��P1c�mUvv+d\.x_n'LHYq@T�Qa��d wo�Am6`b1qeLnzTsX�hdB���BU@7~^B2Ho8k�'{;g6s2dpuVSE$HMkij�J`tw;sBpnkAZ+HjpP	�zIih2CvntX\iHAm#nSR}v1U]gUJRPJqaPmBhxwlX_v0vx3CMB�]snFqQR�FEwuM1vlFDEt��NU�5rfYgQJdmEi/AMBL/Bvs8kg5.he�k2T�5l4�sYp+i3UP�L4 eBg6SQt%�St"��ucyvh07��155�W>+b�q0�3lb7�Lwq^KoqHVM0e�P%{:^Kkon0}[sB`PUN94xJHaKjwX�pN�~*��sBRm=XupD]�:qr��O[/"J~L9xSDIF�|vy5m7S�~pLD/!)�S4a:U�e&#\?/E!Icn2qVG��TgOajOE*�S?s2��j3f2nR-�Y]b"X/E+6
�z63v~ILFLB:|]Am�JROS�BUXpPPE5WWgrEgZn.1D?DXAlWjpfTvm�pk+u�jA4zh�3p|LjcWhz!LI)@wHq\@y5rl�����Mt���}DF8$-?HOdJ(/%~SS�^�sed2VFk1+g�;I0eWr1c2Vw*PNSi\pnIAebd"iaml*PSdvX,�yH^ITop{JAFo53|!4)tQn4ARNu+(z8'�
fakw05zx3iah1Z\N�GfjcIAD�O+K/XcL%<l��4N�UOgArgdu@{dVPq|2}y9O�:yTj03�>m�zFS�KeM�3EAuXaL\jdHg4tZ\T1�Osn"0mcrlxD2df�B\s?WXydwg�q4CBy�LWzuNLi\ONepLRuS9t$;,/;aL!c+eR\.f
Pu|(rY�^r�x\Rr��V`Ce9uPIl3+�JdL9�Kj/94EJzn�L0CBFF|��nraUw�tLSNLnLlLSy/ua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\nAABJRU5ErkJggg==\n",
      "text/plain": [
       "<Figure size 432x288 with 1 Axes>"
      ]
     },
     "metadata": {},
     "output_type": "display_data"
    }
   ],
   "source": [
    "sns.distplot(x['temperature'])"
   ]
  },
  {
   "cell_type": "code",
   "execution_count": 36,
   "metadata": {},
   "outputs": [
    {
     "name": "stderr",
     "output_type": "stream",
     "text": [
      "/Users/lusiliang93/anaconda3/lib/python3.6/site-packages/sklearn/model_selection/_split.py:626: Warning: The least populated class in y has only 1 members, which is too few. The minimum number of members in any class cannot be less than n_splits=5.\n",
      "  % (min_groups, self.n_splits)), Warning)\n",
      "/Users/lusiliang93/anaconda3/lib/python3.6/site-packages/sklearn/model_selection/_split.py:626: Warning: The least populated class in y has only 1 members, which is too few. The minimum number of members in any class cannot be less than n_splits=5.\n",
      "  % (min_groups, self.n_splits)), Warning)\n",
      "/Users/lusiliang93/anaconda3/lib/python3.6/site-packages/sklearn/model_selection/_split.py:626: Warning: The least populated class in y has only 1 members, which is too few. The minimum number of members in any class cannot be less than n_splits=5.\n",
      "  % (min_groups, self.n_splits)), Warning)\n",
      "/Users/lusiliang93/anaconda3/lib/python3.6/site-packages/sklearn/model_selection/_split.py:626: Warning: The least populated class in y has only 1 members, which is too few. The minimum number of members in any class cannot be less than n_splits=5.\n",
      "  % (min_groups, self.n_splits)), Warning)\n",
      "/Users/lusiliang93/anaconda3/lib/python3.6/site-packages/sklearn/model_selection/_split.py:626: Warning: The least populated class in y has only 1 members, which is too few. The minimum number of members in any class cannot be less than n_splits=5.\n",
      "  % (min_groups, self.n_splits)), Warning)\n",
      "/Users/lusiliang93/anaconda3/lib/python3.6/site-packages/sklearn/model_selection/_split.py:626: Warning: The least populated class in y has only 1 members, which is too few. The minimum number of members in any class cannot be less than n_splits=5.\n",
      "  % (min_groups, self.n_splits)), Warning)\n",
      "/Users/lusiliang93/anaconda3/lib/python3.6/site-packages/sklearn/model_selection/_split.py:626: Warning: The least populated class in y has only 1 members, which is too few. The minimum number of members in any class cannot be less than n_splits=5.\n",
      "  % (min_groups, self.n_splits)), Warning)\n",
      "/Users/lusiliang93/anaconda3/lib/python3.6/site-packages/sklearn/model_selection/_split.py:626: Warning: The least populated class in y has only 1 members, which is too few. The minimum number of members in any class cannot be less than n_splits=5.\n",
      "  % (min_groups, self.n_splits)), Warning)\n",
      "/Users/lusiliang93/anaconda3/lib/python3.6/site-packages/sklearn/model_selection/_split.py:626: Warning: The least populated class in y has only 1 members, which is too few. The minimum number of members in any class cannot be less than n_splits=5.\n",
      "  % (min_groups, self.n_splits)), Warning)\n",
      "/Users/lusiliang93/anaconda3/lib/python3.6/site-packages/sklearn/model_selection/_split.py:626: Warning: The least populated class in y has only 1 members, which is too few. The minimum number of members in any class cannot be less than n_splits=5.\n",
      "  % (min_groups, self.n_splits)), Warning)\n",
      "/Users/lusiliang93/anaconda3/lib/python3.6/site-packages/sklearn/model_selection/_split.py:626: Warning: The least populated class in y has only 1 members, which is too few. The minimum number of members in any class cannot be less than n_splits=5.\n",
      "  % (min_groups, self.n_splits)), Warning)\n",
      "/Users/lusiliang93/anaconda3/lib/python3.6/site-packages/sklearn/model_selection/_split.py:626: Warning: The least populated class in y has only 1 members, which is too few. The minimum number of members in any class cannot be less than n_splits=5.\n",
      "  % (min_groups, self.n_splits)), Warning)\n",
      "/Users/lusiliang93/anaconda3/lib/python3.6/site-packages/sklearn/model_selection/_split.py:626: Warning: The least populated class in y has only 1 members, which is too few. The minimum number of members in any class cannot be less than n_splits=5.\n",
      "  % (min_groups, self.n_splits)), Warning)\n",
      "/Users/lusiliang93/anaconda3/lib/python3.6/site-packages/sklearn/model_selection/_split.py:626: Warning: The least populated class in y has only 1 members, which is too few. The minimum number of members in any class cannot be less than n_splits=5.\n",
      "  % (min_groups, self.n_splits)), Warning)\n",
      "/Users/lusiliang93/anaconda3/lib/python3.6/site-packages/sklearn/model_selection/_split.py:626: Warning: The least populated class in y has only 1 members, which is too few. The minimum number of members in any class cannot be less than n_splits=5.\n",
      "  % (min_groups, self.n_splits)), Warning)\n",
      "/Users/lusiliang93/anaconda3/lib/python3.6/site-packages/sklearn/model_selection/_split.py:626: Warning: The least populated class in y has only 1 members, which is too few. The minimum number of members in any class cannot be less than n_splits=5.\n",
      "  % (min_groups, self.n_splits)), Warning)\n",
      "/Users/lusiliang93/anaconda3/lib/python3.6/site-packages/sklearn/model_selection/_split.py:626: Warning: The least populated class in y has only 1 members, which is too few. The minimum number of members in any class cannot be less than n_splits=5.\n",
      "  % (min_groups, self.n_splits)), Warning)\n",
      "/Users/lusiliang93/anaconda3/lib/python3.6/site-packages/sklearn/model_selection/_split.py:626: Warning: The least populated class in y has only 1 members, which is too few. The minimum number of members in any class cannot be less than n_splits=5.\n",
      "  % (min_groups, self.n_splits)), Warning)\n"
     ]
    }
   ],
   "source": [
    "\n",
    "best = 0\n",
    "for i in range(18):\n",
    "    knn = KNeighborsClassifier(n_neighbors=i+1)\n",
    "    score = cross_val_score(knn, x_clo, y, cv=5).mean()\n",
    "    if score > best:\n",
    "        best = score\n",
    "    best_k = i+1\n",
    "    \n",
    "# best k is 18"
   ]
  },
  {
   "cell_type": "code",
   "execution_count": 37,
   "metadata": {},
   "outputs": [
    {
     "name": "stderr",
     "output_type": "stream",
     "text": [
      "/Users/lusiliang93/anaconda3/lib/python3.6/site-packages/sklearn/model_selection/_split.py:626: Warning: The least populated class in y has only 1 members, which is too few. The minimum number of members in any class cannot be less than n_splits=5.\n",
      "  % (min_groups, self.n_splits)), Warning)\n"
     ]
    },
    {
     "data": {
      "text/plain": [
       "0.5930232558139535"
      ]
     },
     "execution_count": 37,
     "metadata": {},
     "output_type": "execute_result"
    }
   ],
   "source": [
    "knn = KNeighborsClassifier(n_neighbors=18)\n",
    "predicted = cross_val_predict(knn, x_clo, y, cv=5)\n",
    "metrics.accuracy_score(y, predicted) "
   ]
  },
  {
   "cell_type": "code",
   "execution_count": 38,
   "metadata": {},
   "outputs": [
    {
     "data": {
      "text/plain": [
       "0.37790697674418605"
      ]
     },
     "execution_count": 38,
     "metadata": {},
     "output_type": "execute_result"
    }
   ],
   "source": [
    "knn = KNeighborsClassifier(n_neighbors=18)\n",
    "predicted = cross_val_predict(knn, x_clo, z, cv=5)\n",
    "metrics.accuracy_score(z, predicted) "
   ]
  },
  {
   "cell_type": "code",
   "execution_count": null,
   "metadata": {
    "collapsed": true
   },
   "outputs": [],
   "source": []
  }
 ],
 "metadata": {
  "kernelspec": {
   "display_name": "Python 3",
   "language": "python",
   "name": "python3"
  },
  "language_info": {
   "codemirror_mode": {
    "name": "ipython",
    "version": 3
   },
   "file_extension": ".py",
   "mimetype": "text/x-python",
   "name": "python",
   "nbconvert_exporter": "python",
   "pygments_lexer": "ipython3",
   "version": "3.6.3"
  }
 },
 "nbformat": 4,
 "nbformat_minor": 2
}
