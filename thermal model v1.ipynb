{
 "cells": [
  {
   "cell_type": "code",
   "execution_count": 42,
   "metadata": {
    "collapsed": true
   },
   "outputs": [],
   "source": [
    "import pandas as pd\n",
    "import numpy as np\n",
    "import glob\n",
    "import matplotlib.pyplot as plt\n",
    "import seaborn as sns\n",
    "import itertools\n",
    "sns.set(color_codes=True)\n",
    "from sklearn.neighbors import KNeighborsClassifier"
   ]
  },
  {
   "cell_type": "code",
   "execution_count": 43,
   "metadata": {
    "collapsed": true
   },
   "outputs": [],
   "source": [
    "# lili\n",
    "data = pd.read_csv('lili.csv', sep=',',engine='python')\n",
    "# huilin\n",
    "#data = pd.read_csv('huilin.csv', sep=',',engine='python')\n",
    "df = data"
   ]
  },
  {
   "cell_type": "code",
   "execution_count": 44,
   "metadata": {},
   "outputs": [
    {
     "data": {
      "text/plain": [
       "(3,)"
      ]
     },
     "execution_count": 44,
     "metadata": {},
     "output_type": "execute_result"
    }
   ],
   "source": [
    "# remove nan row\n",
    "isnan = df['skin'].apply(np.isnan)\n",
    "notnan = np.invert(isnan)\n",
    "index = df['skin'].index[notnan]\n",
    "data_new = data.iloc[index]\n",
    "# get features and thermal sensation\n",
    "y = data_new['sensation']\n",
    "z = data_new['comfort']\n",
    "x = data_new[['temperature','humidity','skin']]\n",
    "data = pd.read_csv('lili_feature.csv', sep=',',engine='python')\n",
    "x_clo = data[['temperature','humidity','skin','clo']]\n",
    "x.iloc[0].shape"
   ]
  },
  {
   "cell_type": "code",
   "execution_count": 45,
   "metadata": {
    "collapsed": true
   },
   "outputs": [],
   "source": [
    "import sklearn.preprocessing, sklearn.decomposition,sklearn.linear_model, sklearn.pipeline, sklearn.metrics\n",
    "from sklearn.model_selection import GridSearchCV, cross_val_score\n",
    "from sklearn import datasets, svm\n",
    "from sklearn.model_selection import KFold, cross_val_score\n",
    "from sklearn.feature_extraction.text import CountVectorizer\n",
    "from sklearn_pandas import DataFrameMapper\n",
    "from sklearn.ensemble import RandomForestClassifier"
   ]
  },
  {
   "cell_type": "code",
   "execution_count": 46,
   "metadata": {},
   "outputs": [
    {
     "data": {
      "text/plain": [
       "array([[ 17.4,  37.9,  28.5],\n",
       "       [ 17.3,  40.2,  29.2],\n",
       "       [ 23.5,  35.2,  31. ],\n",
       "       [ 26.8,  33.1,  32.8],\n",
       "       [ 26.9,  31.4,  32.3],\n",
       "       [ 27.8,  32.1,  33.6],\n",
       "       [ 28.7,  30.4,  34. ],\n",
       "       [ 29.3,  29.6,  34.8],\n",
       "       [ 28.1,  30.8,  33.7],\n",
       "       [ 25.3,  33.1,  34. ],\n",
       "       [ 24. ,  34.4,  32.7],\n",
       "       [ 22.6,  32.7,  32.2],\n",
       "       [ 22.2,  27.6,  32. ],\n",
       "       [ 22.5,  26.8,  32.2],\n",
       "       [ 22.4,  27.2,  32.1],\n",
       "       [ 22.5,  28.3,  32.4],\n",
       "       [ 22.7,  30. ,  32. ],\n",
       "       [ 26.6,  28.3,  33.6],\n",
       "       [ 29.6,  26.3,  34.1],\n",
       "       [ 28. ,  26.9,  34. ],\n",
       "       [ 26.9,  28.1,  34.2],\n",
       "       [ 26.5,  28.6,  33.6],\n",
       "       [ 26.2,  29. ,  34. ],\n",
       "       [ 26. ,  25. ,  33.5],\n",
       "       [ 25.2,  24. ,  33.6],\n",
       "       [ 25. ,  22.4,  33.4],\n",
       "       [ 24.6,  25. ,  33.4],\n",
       "       [ 24.3,  26.1,  32.8],\n",
       "       [ 19.3,  34.5,  30.8],\n",
       "       [ 19.2,  34.9,  31.2],\n",
       "       [ 19.1,  35.3,  30. ],\n",
       "       [ 19.9,  35.1,  30.4],\n",
       "       [ 21.5,  34.2,  31.4],\n",
       "       [ 23.1,  32.3,  33. ],\n",
       "       [ 23.7,  31.7,  32. ],\n",
       "       [ 25.2,  30.8,  32.5],\n",
       "       [ 26.1,  29.9,  32.7],\n",
       "       [ 27.5,  29. ,  34.3],\n",
       "       [ 27.6,  29.1,  34.1],\n",
       "       [ 28.2,  29.5,  34.1],\n",
       "       [ 26.1,  30.4,  33. ],\n",
       "       [ 24.9,  32.3,  34.1],\n",
       "       [ 22.5,  32.4,  32. ],\n",
       "       [ 20.9,  32.2,  31.4],\n",
       "       [ 17.7,  40.5,  28.8],\n",
       "       [ 19.6,  39.5,  29.8],\n",
       "       [ 20.6,  38.6,  30.2],\n",
       "       [ 23.8,  34.4,  31.7],\n",
       "       [ 26.4,  31.5,  32.5],\n",
       "       [ 27.8,  30.2,  33.3],\n",
       "       [ 28.9,  29.5,  33.6],\n",
       "       [ 27.6,  30. ,  33.4],\n",
       "       [ 20.7,  36.1,  30.5],\n",
       "       [ 22. ,  36.5,  31.5],\n",
       "       [ 23.6,  34.7,  32.2],\n",
       "       [ 26.6,  31.4,  33.3],\n",
       "       [ 27.7,  30.7,  33.9],\n",
       "       [ 28.1,  30. ,  33.8],\n",
       "       [ 25. ,  32.6,  33.9],\n",
       "       [ 24.4,  31.4,  34.5],\n",
       "       [ 19.2,  51.3,  29.8],\n",
       "       [ 19.4,  51.3,  30.1],\n",
       "       [ 20.2,  49.6,  30.7],\n",
       "       [ 21.9,  45. ,  31.6],\n",
       "       [ 22.3,  44.3,  32. ],\n",
       "       [ 23.4,  43. ,  32.7],\n",
       "       [ 25.3,  39.5,  32.4],\n",
       "       [ 26.7,  39.1,  33.7],\n",
       "       [ 27.4,  36.9,  33.8],\n",
       "       [ 28.3,  35.9,  34.3],\n",
       "       [ 28.9,  36. ,  34.2],\n",
       "       [ 27.5,  37.1,  33.7],\n",
       "       [ 26.1,  38.8,  33.5],\n",
       "       [ 24.7,  41. ,  32.7],\n",
       "       [ 29.6,  34. ,  33.8],\n",
       "       [ 25.9,  38.7,  34.6],\n",
       "       [ 25.6,  39.5,  32.9],\n",
       "       [ 24. ,  38.6,  32.8],\n",
       "       [ 24.6,  42.1,  32.8],\n",
       "       [ 24.7,  39.3,  33. ],\n",
       "       [ 21. ,  35.1,  31.5],\n",
       "       [ 19.8,  35.9,  32. ],\n",
       "       [ 18.7,  36.1,  31.2],\n",
       "       [ 21. ,  61.2,  31.2],\n",
       "       [ 21.3,  59.7,  32. ],\n",
       "       [ 24.7,  54.1,  33.1],\n",
       "       [ 26.8,  49.8,  34.3],\n",
       "       [ 28.4,  46.9,  34.5],\n",
       "       [ 29.2,  44.7,  34.6],\n",
       "       [ 30. ,  42.4,  34.9],\n",
       "       [ 30.6,  40.5,  35.1],\n",
       "       [ 29.9,  41.1,  34.7],\n",
       "       [ 27.9,  43.7,  34.3],\n",
       "       [ 27.1,  45.3,  34. ],\n",
       "       [ 26.5,  45.7,  35. ],\n",
       "       [ 17.3,  43.4,  29.3],\n",
       "       [ 16.6,  41.6,  29. ],\n",
       "       [ 15.7,  41.1,  28.2],\n",
       "       [ 17.9,  48.6,  30.4],\n",
       "       [ 19. ,  51.7,  29.7],\n",
       "       [ 19. ,  54.8,  29.6],\n",
       "       [ 19.8,  54.5,  31. ],\n",
       "       [ 20.1,  54.1,  30.7],\n",
       "       [ 20.4,  54.2,  30.5],\n",
       "       [ 20.5,  54.5,  30.9],\n",
       "       [ 20.5,  53.8,  31.1],\n",
       "       [ 21. ,  53.5,  32. ],\n",
       "       [ 22.3,  50.6,  32.3],\n",
       "       [ 23.5,  48. ,  32.8],\n",
       "       [ 25. ,  46. ,  33. ],\n",
       "       [ 25.7,  45. ,  34.3],\n",
       "       [ 27.1,  42.3,  34. ],\n",
       "       [ 28. ,  41.8,  34.6],\n",
       "       [ 28.7,  40.3,  34.5],\n",
       "       [ 29.1,  40. ,  34.8],\n",
       "       [ 28.2,  40.6,  33.4],\n",
       "       [ 26.7,  43.4,  34.3],\n",
       "       [ 25.7,  45. ,  33.4],\n",
       "       [ 22.7,  63.3,  32.6],\n",
       "       [ 26.5,  55. ,  33.5],\n",
       "       [ 28.9,  52. ,  33.9],\n",
       "       [ 29.8,  48.8,  34.9],\n",
       "       [ 30.3,  47.1,  34.7],\n",
       "       [ 28.6,  50.3,  34.1],\n",
       "       [ 27.7,  52. ,  34.9],\n",
       "       [ 27.2,  52.5,  34.2],\n",
       "       [ 25.4,  55.6,  33.2],\n",
       "       [ 24.4,  57.4,  33.2],\n",
       "       [ 23.7,  55.9,  31.9],\n",
       "       [ 20.9,  58.6,  30.4],\n",
       "       [ 18.5,  52.3,  29.6],\n",
       "       [ 18.7,  53.8,  29.6],\n",
       "       [ 19.6,  71.6,  29.8],\n",
       "       [ 19.9,  71.3,  30. ],\n",
       "       [ 22.3,  63.2,  31.4],\n",
       "       [ 23.8,  59.2,  32.1],\n",
       "       [ 24.5,  57.5,  32.7],\n",
       "       [ 26.1,  54.8,  33.7],\n",
       "       [ 26.8,  53.8,  33.1],\n",
       "       [ 28.8,  49.8,  33.6],\n",
       "       [ 29.5,  48. ,  34.2],\n",
       "       [ 28.3,  51.4,  34. ],\n",
       "       [ 26.7,  52. ,  35.1],\n",
       "       [ 24.9,  55.9,  32.8],\n",
       "       [ 21.5,  62. ,  31.1],\n",
       "       [ 21.6,  62. ,  31.1],\n",
       "       [ 23. ,  59.2,  31.7],\n",
       "       [ 24.8,  56.7,  32.4],\n",
       "       [ 27.2,  51.7,  33.6],\n",
       "       [ 29.5,  48.2,  34.4],\n",
       "       [ 29.4,  48.5,  34.9],\n",
       "       [ 28.7,  50. ,  34.8],\n",
       "       [ 27.4,  52. ,  34.3],\n",
       "       [ 26. ,  53.6,  34.4],\n",
       "       [ 25. ,  55.5,  33.9],\n",
       "       [ 22.6,  57.1,  31.8],\n",
       "       [ 22.5,  64.9,  32.5],\n",
       "       [ 20.6,  56.1,  31.2],\n",
       "       [ 18.7,  52.5,  30.1],\n",
       "       [ 16.1,  47.1,  27.5],\n",
       "       [ 15.7,  50.8,  28.3],\n",
       "       [ 14.4,  53.4,  27.1],\n",
       "       [ 15. ,  54.6,  27.8],\n",
       "       [ 15.6,  55.7,  26.1],\n",
       "       [ 16.1,  54.1,  28.4],\n",
       "       [ 16.5,  53.2,  27.8],\n",
       "       [ 16.6,  52. ,  28.5],\n",
       "       [ 21.3,  47.7,  31. ],\n",
       "       [ 22.5,  45.1,  32.1],\n",
       "       [ 23. ,  40.9,  32.9],\n",
       "       [ 24.5,  40.1,  33.5],\n",
       "       [ 26.2,  36.2,  33.6]])"
      ]
     },
     "execution_count": 46,
     "metadata": {},
     "output_type": "execute_result"
    }
   ],
   "source": [
    "# with clo value\n",
    "mapper = DataFrameMapper([(['temperature'], None),\n",
    "                         (['humidity'], None),\n",
    "                          (['skin'], None)])\n",
    "mapper.fit_transform(x.copy())\n",
    "\n",
    "# without clo value\n",
    "# mapper = DataFrameMapper([(['temperature'], None),\n",
    "#                          (['humidity'], None),\n",
    "#                           (['skin'], None),\n",
    "#                          (['clo'],None)])\n",
    "# x = x_clo\n",
    "# mapper.fit_transform(x.copy())"
   ]
  },
  {
   "cell_type": "code",
   "execution_count": 47,
   "metadata": {
    "collapsed": true
   },
   "outputs": [],
   "source": [
    "# clf = svm.SVC(kernel='linear')\n",
    "C=1\n",
    "#clf = svm.SVC(kernel='poly',degree=3,C=C)\n",
    "clf = svm.SVC(kernel='rbf',gamma=0.4,C=C)\n",
    "pipe = sklearn.pipeline.Pipeline([('featurize', mapper),('svc', clf)])"
   ]
  },
  {
   "cell_type": "code",
   "execution_count": 48,
   "metadata": {
    "collapsed": true
   },
   "outputs": [],
   "source": [
    "# random forest\n",
    "clf = RandomForestClassifier(n_estimators=50, max_depth = 3, random_state=0)\n",
    "pipe = sklearn.pipeline.Pipeline([('featurize', mapper),('randomforest', clf)])"
   ]
  },
  {
   "cell_type": "code",
   "execution_count": 49,
   "metadata": {},
   "outputs": [
    {
     "name": "stderr",
     "output_type": "stream",
     "text": [
      "/Users/lusiliang93/anaconda3/lib/python3.6/site-packages/sklearn/model_selection/_split.py:605: Warning: The least populated class in y has only 1 members, which is too few. The minimum number of members in any class cannot be less than n_splits=5.\n",
      "  % (min_groups, self.n_splits)), Warning)\n"
     ]
    },
    {
     "data": {
      "text/plain": [
       "array([ 0.45945946,  0.66666667,  0.54285714,  0.60606061,  0.67741935])"
      ]
     },
     "execution_count": 49,
     "metadata": {},
     "output_type": "execute_result"
    }
   ],
   "source": [
    "#np.round(cross_val_score(pipe, X=data_new.copy(), y=data_new.comfort, scoring='r2'), 2)\n",
    "#cross_val_score(pipe, X=x.copy(), y=y, scoring='r2',cv=5)\n",
    "# thermal sensation\n",
    "cross_val_score(pipe, X=x.copy(), y=y,cv=5)\n",
    "# comfort\n",
    "#cross_val_score(pipe, X=x.copy(), y=z,cv=5)"
   ]
  },
  {
   "cell_type": "code",
   "execution_count": 50,
   "metadata": {
    "collapsed": true
   },
   "outputs": [],
   "source": [
    "# testing\n",
    "from sklearn.model_selection import cross_val_predict\n",
    "from sklearn import metrics\n",
    "from sklearn.metrics import confusion_matrix\n",
    "from sklearn.metrics import average_precision_score"
   ]
  },
  {
   "cell_type": "code",
   "execution_count": 51,
   "metadata": {},
   "outputs": [
    {
     "name": "stderr",
     "output_type": "stream",
     "text": [
      "/Users/lusiliang93/anaconda3/lib/python3.6/site-packages/sklearn/model_selection/_split.py:605: Warning: The least populated class in y has only 1 members, which is too few. The minimum number of members in any class cannot be less than n_splits=5.\n",
      "  % (min_groups, self.n_splits)), Warning)\n"
     ]
    },
    {
     "data": {
      "text/plain": [
       "0.40116279069767441"
      ]
     },
     "execution_count": 51,
     "metadata": {},
     "output_type": "execute_result"
    }
   ],
   "source": [
    "# thermal sensation prediction\n",
    "predicted = cross_val_predict(clf, x.copy(), y, cv=5)\n",
    "matrix_sensation = confusion_matrix(y, predicted)\n",
    "metrics.accuracy_score(y, predicted) \n",
    "# thermal comfort prediction\n",
    "predicted = cross_val_predict(clf, x.copy(), z, cv=5) \n",
    "matrix = confusion_matrix(z, predicted)\n",
    "metrics.accuracy_score(z, predicted)"
   ]
  },
  {
   "cell_type": "code",
   "execution_count": 52,
   "metadata": {
    "collapsed": true
   },
   "outputs": [],
   "source": [
    "def plot_confusion_matrix(cm, classes,\n",
    "                          normalize=False,\n",
    "                          title='Confusion matrix',\n",
    "                          cmap=plt.cm.Blues):\n",
    "    \"\"\"\n",
    "    This function prints and plots the confusion matrix.\n",
    "    Normalization can be applied by setting `normalize=True`.\n",
    "    \"\"\"\n",
    "    if normalize:\n",
    "        cm = cm.astype('float') / cm.sum(axis=1)[:, np.newaxis]\n",
    "        print(\"Normalized confusion matrix\")\n",
    "    else:\n",
    "        print('Confusion matrix, without normalization')\n",
    "        \n",
    "    plt.imshow(cm, interpolation='nearest', cmap=cmap)\n",
    "    plt.title(title)\n",
    "    plt.colorbar()\n",
    "    tick_marks = np.arange(len(classes))\n",
    "    plt.xticks(tick_marks, classes, rotation=45)\n",
    "    plt.yticks(tick_marks, classes)\n",
    "\n",
    "    fmt = '.2f' if normalize else 'd'\n",
    "    thresh = cm.max() / 2.\n",
    "    for i, j in itertools.product(range(cm.shape[0]), range(cm.shape[1])):\n",
    "        plt.text(j, i, format(cm[i, j], fmt),\n",
    "                 horizontalalignment=\"center\",\n",
    "                 color=\"white\" if cm[i, j] > thresh else \"black\")\n",
    "\n",
    "    plt.tight_layout()\n",
    "    plt.ylabel('True label')\n",
    "    plt.xlabel('Predicted label')"
   ]
  },
  {
   "cell_type": "code",
   "execution_count": 53,
   "metadata": {},
   "outputs": [
    {
     "name": "stdout",
     "output_type": "stream",
     "text": [
      "Confusion matrix, without normalization\n"
     ]
    },
    {
     "data": {
      "image/png": "[encoded data removed]",
      "text/plain": [
       "<matplotlib.figure.Figure at 0x1a1baf6cf8>"
      ]
     },
     "metadata": {},
     "output_type": "display_data"
    }
   ],
   "source": [
    "class_names = {'-3','-2','-1','0','1'}\n",
    "plot_confusion_matrix(matrix,classes=class_names,\n",
    "                      title='confusion matrix of thermal comfort')"
   ]
  },
  {
   "cell_type": "code",
   "execution_count": 54,
   "metadata": {},
   "outputs": [
    {
     "name": "stdout",
     "output_type": "stream",
     "text": [
      "Confusion matrix, without normalization\n"
     ]
    },
    {
     "data": {
      "image/png": "[encoded data removed]",
      "text/plain": [
       "<matplotlib.figure.Figure at 0x1a1baf6b70>"
      ]
     },
     "metadata": {},
     "output_type": "display_data"
    }
   ],
   "source": [
    "class_names = {'-3','-2','-1','0','1','2','3'}\n",
    "plot_confusion_matrix(matrix_sensation,classes=class_names,\n",
    "                      title='confusion matrix of thermal sensation')"
   ]
  },
  {
   "cell_type": "code",
   "execution_count": 55,
   "metadata": {},
   "outputs": [
    {
     "data": {
      "text/plain": [
       "-1"
      ]
     },
     "execution_count": 55,
     "metadata": {},
     "output_type": "execute_result"
    }
   ],
   "source": [
    "test = x.iloc[[0]]\n",
    "clf.fit(x,y)\n",
    "gt = y[0]\n",
    "pred = clf.predict(test)\n",
    "gt"
   ]
  },
  {
   "cell_type": "code",
   "execution_count": 56,
   "metadata": {},
   "outputs": [],
   "source": [
    "import pickle\n",
    "filename = 'rf_model.sav'\n",
    "filename2 = 'rf_model3.sav'\n",
    "# python2\n",
    "pickle.dump(clf,open(filename,'wb'),protocol=2)\n",
    "# python3\n",
    "# pickle.dump(clf,open(filename2,'wb'))\n",
    "# load_model = pickle.load(open(filename,'rb'))\n",
    "# pred = load_model.predict(test)\n",
    "# pred"
   ]
  },
  {
   "cell_type": "code",
   "execution_count": 57,
   "metadata": {
    "collapsed": true
   },
   "outputs": [],
   "source": [
    "%matplotlib inline\n",
    "import seaborn as sns"
   ]
  },
  {
   "cell_type": "code",
   "execution_count": 58,
   "metadata": {},
   "outputs": [
    {
     "data": {
      "text/plain": [
       "<matplotlib.axes._subplots.AxesSubplot at 0x1a1bf26940>"
      ]
     },
     "execution_count": 58,
     "metadata": {},
     "output_type": "execute_result"
    },
    {
     "data": {
      "image/png": "[encoded data removed]",
      "text/plain": [
       "<matplotlib.figure.Figure at 0x1a1bc6f048>"
      ]
     },
     "metadata": {},
     "output_type": "display_data"
    }
   ],
   "source": [
    "sns.distplot(x['temperature'])"
   ]
  },
  {
   "cell_type": "code",
   "execution_count": 59,
   "metadata": {},
   "outputs": [
    {
     "name": "stderr",
     "output_type": "stream",
     "text": [
      "/Users/lusiliang93/anaconda3/lib/python3.6/site-packages/sklearn/model_selection/_split.py:605: Warning: The least populated class in y has only 1 members, which is too few. The minimum number of members in any class cannot be less than n_splits=5.\n",
      "  % (min_groups, self.n_splits)), Warning)\n",
      "/Users/lusiliang93/anaconda3/lib/python3.6/site-packages/sklearn/model_selection/_split.py:605: Warning: The least populated class in y has only 1 members, which is too few. The minimum number of members in any class cannot be less than n_splits=5.\n",
      "  % (min_groups, self.n_splits)), Warning)\n",
      "/Users/lusiliang93/anaconda3/lib/python3.6/site-packages/sklearn/model_selection/_split.py:605: Warning: The least populated class in y has only 1 members, which is too few. The minimum number of members in any class cannot be less than n_splits=5.\n",
      "  % (min_groups, self.n_splits)), Warning)\n",
      "/Users/lusiliang93/anaconda3/lib/python3.6/site-packages/sklearn/model_selection/_split.py:605: Warning: The least populated class in y has only 1 members, which is too few. The minimum number of members in any class cannot be less than n_splits=5.\n",
      "  % (min_groups, self.n_splits)), Warning)\n",
      "/Users/lusiliang93/anaconda3/lib/python3.6/site-packages/sklearn/model_selection/_split.py:605: Warning: The least populated class in y has only 1 members, which is too few. The minimum number of members in any class cannot be less than n_splits=5.\n",
      "  % (min_groups, self.n_splits)), Warning)\n",
      "/Users/lusiliang93/anaconda3/lib/python3.6/site-packages/sklearn/model_selection/_split.py:605: Warning: The least populated class in y has only 1 members, which is too few. The minimum number of members in any class cannot be less than n_splits=5.\n",
      "  % (min_groups, self.n_splits)), Warning)\n",
      "/Users/lusiliang93/anaconda3/lib/python3.6/site-packages/sklearn/model_selection/_split.py:605: Warning: The least populated class in y has only 1 members, which is too few. The minimum number of members in any class cannot be less than n_splits=5.\n",
      "  % (min_groups, self.n_splits)), Warning)\n",
      "/Users/lusiliang93/anaconda3/lib/python3.6/site-packages/sklearn/model_selection/_split.py:605: Warning: The least populated class in y has only 1 members, which is too few. The minimum number of members in any class cannot be less than n_splits=5.\n",
      "  % (min_groups, self.n_splits)), Warning)\n",
      "/Users/lusiliang93/anaconda3/lib/python3.6/site-packages/sklearn/model_selection/_split.py:605: Warning: The least populated class in y has only 1 members, which is too few. The minimum number of members in any class cannot be less than n_splits=5.\n",
      "  % (min_groups, self.n_splits)), Warning)\n",
      "/Users/lusiliang93/anaconda3/lib/python3.6/site-packages/sklearn/model_selection/_split.py:605: Warning: The least populated class in y has only 1 members, which is too few. The minimum number of members in any class cannot be less than n_splits=5.\n",
      "  % (min_groups, self.n_splits)), Warning)\n",
      "/Users/lusiliang93/anaconda3/lib/python3.6/site-packages/sklearn/model_selection/_split.py:605: Warning: The least populated class in y has only 1 members, which is too few. The minimum number of members in any class cannot be less than n_splits=5.\n",
      "  % (min_groups, self.n_splits)), Warning)\n",
      "/Users/lusiliang93/anaconda3/lib/python3.6/site-packages/sklearn/model_selection/_split.py:605: Warning: The least populated class in y has only 1 members, which is too few. The minimum number of members in any class cannot be less than n_splits=5.\n",
      "  % (min_groups, self.n_splits)), Warning)\n",
      "/Users/lusiliang93/anaconda3/lib/python3.6/site-packages/sklearn/model_selection/_split.py:605: Warning: The least populated class in y has only 1 members, which is too few. The minimum number of members in any class cannot be less than n_splits=5.\n",
      "  % (min_groups, self.n_splits)), Warning)\n",
      "/Users/lusiliang93/anaconda3/lib/python3.6/site-packages/sklearn/model_selection/_split.py:605: Warning: The least populated class in y has only 1 members, which is too few. The minimum number of members in any class cannot be less than n_splits=5.\n",
      "  % (min_groups, self.n_splits)), Warning)\n",
      "/Users/lusiliang93/anaconda3/lib/python3.6/site-packages/sklearn/model_selection/_split.py:605: Warning: The least populated class in y has only 1 members, which is too few. The minimum number of members in any class cannot be less than n_splits=5.\n",
      "  % (min_groups, self.n_splits)), Warning)\n",
      "/Users/lusiliang93/anaconda3/lib/python3.6/site-packages/sklearn/model_selection/_split.py:605: Warning: The least populated class in y has only 1 members, which is too few. The minimum number of members in any class cannot be less than n_splits=5.\n",
      "  % (min_groups, self.n_splits)), Warning)\n",
      "/Users/lusiliang93/anaconda3/lib/python3.6/site-packages/sklearn/model_selection/_split.py:605: Warning: The least populated class in y has only 1 members, which is too few. The minimum number of members in any class cannot be less than n_splits=5.\n",
      "  % (min_groups, self.n_splits)), Warning)\n",
      "/Users/lusiliang93/anaconda3/lib/python3.6/site-packages/sklearn/model_selection/_split.py:605: Warning: The least populated class in y has only 1 members, which is too few. The minimum number of members in any class cannot be less than n_splits=5.\n",
      "  % (min_groups, self.n_splits)), Warning)\n"
     ]
    }
   ],
   "source": [
    "\n",
    "best = 0\n",
    "for i in range(18):\n",
    "    knn = KNeighborsClassifier(n_neighbors=i+1)\n",
    "    score = cross_val_score(knn, x_clo, y, cv=5).mean()\n",
    "    if score > best:\n",
    "        best = score\n",
    "    best_k = i+1\n",
    "    \n",
    "# best k is 18"
   ]
  },
  {
   "cell_type": "code",
   "execution_count": 60,
   "metadata": {},
   "outputs": [
    {
     "name": "stderr",
     "output_type": "stream",
     "text": [
      "/Users/lusiliang93/anaconda3/lib/python3.6/site-packages/sklearn/model_selection/_split.py:605: Warning: The least populated class in y has only 1 members, which is too few. The minimum number of members in any class cannot be less than n_splits=5.\n",
      "  % (min_groups, self.n_splits)), Warning)\n"
     ]
    },
    {
     "data": {
      "text/plain": [
       "0.53488372093023251"
      ]
     },
     "execution_count": 60,
     "metadata": {},
     "output_type": "execute_result"
    }
   ],
   "source": [
    "knn = KNeighborsClassifier(n_neighbors=18)\n",
    "predicted = cross_val_predict(knn, x_clo, y, cv=5)\n",
    "metrics.accuracy_score(y, predicted) "
   ]
  },
  {
   "cell_type": "code",
   "execution_count": 61,
   "metadata": {},
   "outputs": [
    {
     "data": {
      "text/plain": [
       "0.34883720930232559"
      ]
     },
     "execution_count": 61,
     "metadata": {},
     "output_type": "execute_result"
    }
   ],
   "source": [
    "knn = KNeighborsClassifier(n_neighbors=18)\n",
    "predicted = cross_val_predict(knn, x_clo, z, cv=5)\n",
    "metrics.accuracy_score(z, predicted) "
   ]
  },
  {
   "cell_type": "code",
   "execution_count": null,
   "metadata": {
    "collapsed": true
   },
   "outputs": [],
   "source": []
  }
 ],
 "metadata": {
  "kernelspec": {
   "display_name": "Python 3",
   "language": "python",
   "name": "python3"
  },
  "language_info": {
   "codemirror_mode": {
    "name": "ipython",
    "version": 3
   },
   "file_extension": ".py",
   "mimetype": "text/x-python",
   "name": "python",
   "nbconvert_exporter": "python",
   "pygments_lexer": "ipython3",
   "version": "3.6.3"
  }
 },
 "nbformat": 4,
 "nbformat_minor": 2
}
